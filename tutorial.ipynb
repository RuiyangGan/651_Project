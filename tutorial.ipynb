{
 "cells": [
  {
   "cell_type": "markdown",
   "metadata": {},
   "source": [
    "## Introduction to Large-Scale Network Analysis with Pyspark and Graphframe"
   ]
  },
  {
   "cell_type": "markdown",
   "metadata": {},
   "source": [
    "## Background\n",
    "\n",
    "This tutorial provides an introduction on how to conduct large-scale network analysis using Spark and graphframe. This tutorial will focus on basic features of Pyspark SQL that can be applied toward computation on large graph. Features of graphframe (a package in Spark that focuses on graph-related computation) will also be introduced. \n",
    "\n",
    "Before we proceed to the rest of this tutorial, I will provide some background of Spark. Spark is a computing framework developed by Apache Foundation in 2013 to overcome some shortcoming of Apache Hadoop MapReduce. General pipeline of MapReduce is as follow: apply function to some data on disk and assign a key (map), group data by batch and distribute batches of data to computing nodes (shuffle), aggregate the batch of data to a single result (reduce) and store on Disk. This process is slow as it relies on disk operation (streaming batch of data to individual computing node and reading into disk for further computing job) and somewhat cumbersome (for each computing job, a mapper and reducer has to be provided). Spark is faster than the Hadoop MapReduce for most of the computing tasks as it is optimized for such computation. Also, since the introduction of Data Frame and Spark SQL since Spark 1.6, such cumbersomeness will also be alleviated as some of the computing jobs can be expressed in SQL expressions. For example, a simple word count program can be done by just `wordDF.groupby('word').count()` given all words are parsed and stored in a data frame called `wordDF` with column `word`. "
   ]
  },
  {
   "cell_type": "markdown",
   "metadata": {},
   "source": [
    "## Setting up Environment and IO\n",
    "After a rough introduction of Spark, we will begin the tutorial by setting up Spark Environment. Spark has api for Scala, Python, and R. For this tutorial, I will use Spark's api for Python, which is Pyspark. Installing Pyspark is easy as it is available in PyPi. To install, just type `pip install pyspark` in your shell, as it will automatically install the dependency and add pyspark in the `PATH`. For installation of other api, I suggest reading https://spark.apache.org/downloads.html for downloads and installation. \n",
    "\n",
    "To test whether Spark is properly installed, type `pyspark` in your shell. If you see the following message pop up in your shell:\n",
    "``` shell\n",
    "Welcome to\n",
    "      ____              __\n",
    "     / __/__  ___ _____/ /__\n",
    "    _\\ \\/ _ \\/ _ `/ __/  '_/\n",
    "   /__ / .__/\\_,_/_/ /_/\\_\\   version 2.4.0\n",
    "      /_/\n",
    "\n",
    "Using Python version 3.7.0 (default, Jun 28 2018 13:15:42)\n",
    "SparkSession available as 'spark'\n",
    "```\n",
    "Then you have pyspark correctly installed and configured.\n",
    "\n",
    "After installing pyspark, we will first run Spark in local mode. To use Spark, we will need an entry point. Such entry point will be a `SparkSession` object (given that we deal mostly with DataFrames). Note that in the above shell message, a default `SparkSession` object is created as `spark`. Now, we will show how to create one `SparkSession` with desired configuration. "
   ]
  },
  {
   "cell_type": "code",
   "execution_count": 1,
   "metadata": {},
   "outputs": [],
   "source": [
    "from pyspark.sql import SparkSession\n",
    "from pyspark import SparkConf\n",
    "# Create configuration for Spark Session\n",
    "conf = SparkConf() \\\n",
    "    .setAll([('spark.executor.memory', '16g'),\n",
    "             ('spark.executor.cores', '8'),\n",
    "             ('spark.cores.max', '8'),\n",
    "             ('spark.driver.memory','16g'),\n",
    "             ('spark.sql.execution.arrow.enabled', True)])\n",
    "\n",
    "# Create a spark session\n",
    "demo = SparkSession.builder.config(conf=conf).getOrCreate()"
   ]
  },
  {
   "cell_type": "markdown",
   "metadata": {},
   "source": [
    "In the code snippet above, note that we add in the key-value pair `('spark.sql.execution.arrow.enabled', True)` into our Spark config. Apache Arrow is a standardized in-memory data storage format. A noticeable feature of Arrow is that it is language-independent. As the data are stored in memory in Arrow format, there is no conversion overhead for data transferring between python and Spark. This configuration is also essential to our next steps, as it enables the use of pandas udf (pandas user defined function). \n",
    "\n",
    "After installing Pyspark, let's try creating some DataFrames in Spark. Pyspark SQL accepts multiple formats of input, such as csv, json, pandas, parquet, etc. We will try reading data from parquet format. Parquet is a columnar, binary storage format. It is the on-disk storage format for the Arrow format we mentioned above. We can convert a csv/txt file to a parquet file by first converting it to a pandas dataframe and then convert it to parquet. The following code snippet describe the steps of converting a text file to a parquet file:"
   ]
  },
  {
   "cell_type": "code",
   "execution_count": null,
   "metadata": {},
   "outputs": [],
   "source": [
    "import pandas as pd\n",
    "import pyarrow as pa\n",
    "import pyarrow.parquet as pq\n",
    "\n",
    "# Read from csv to create a pandas data frame\n",
    "edges_pd = pd.read_csv('data/edges.csv', columns = ['src', 'dst'])\n",
    "edges_pd.to_parquet('data/edges.parquet', index=False)"
   ]
  },
  {
   "cell_type": "markdown",
   "metadata": {},
   "source": [
    "Now, we should have a file named `edges.parquet` with column `src` and `dst` in a directory `data` (Create one beforehand if you don't have one already). Now, let's try reading this parquet file into our current Spark Session as a data.frame and see what it looks like."
   ]
  },
  {
   "cell_type": "code",
   "execution_count": 2,
   "metadata": {},
   "outputs": [
    {
     "name": "stdout",
     "output_type": "stream",
     "text": [
      "+----+---+\n",
      "| src|dst|\n",
      "+----+---+\n",
      "| -35| 27|\n",
      "| -28|263|\n",
      "|-165|100|\n",
      "| -26|263|\n",
      "| -65|134|\n",
      "| -26|134|\n",
      "| -65| 90|\n",
      "|-144| 75|\n",
      "|-732|242|\n",
      "|-249|475|\n",
      "+----+---+\n",
      "only showing top 10 rows\n",
      "\n"
     ]
    }
   ],
   "source": [
    "edges_df = demo.read.parquet('data/edges.parquet')\n",
    "edges_df.show(10)"
   ]
  },
  {
   "cell_type": "markdown",
   "metadata": {},
   "source": [
    "## Pyspark SQL and Pandas UDF\n",
    "After we load our `edges` dataframe into our Spark session, we shall now exlpore more features of the pyspark sql. Since the first data frame `edges` is in the form of an adjacency list, we can do some very basic graphic EDA using SQL. Now suppose that all positive number in the `edges` data frame is a GitHub user's ID, while every negative number represents the ID of a GitHub repository. Then each row in our `edges` table represents an edge from `src` to `dst` in this simple graph. Next, we want to know what are the indegrees and outdegrees of repositories on GitHub. It turns out that it is quite easy to do so with Spark SQL. All we need is three table operations: `filter()`, `groupby()`, and `count()`. Let's take the calculation of indegree of repositories as an example:"
   ]
  },
  {
   "cell_type": "code",
   "execution_count": 3,
   "metadata": {},
   "outputs": [
    {
     "name": "stdout",
     "output_type": "stream",
     "text": [
      "+------+--------+\n",
      "|    id|inDegree|\n",
      "+------+--------+\n",
      "|  -882|       1|\n",
      "| -1299|       1|\n",
      "| -3150|       1|\n",
      "| -4657|       1|\n",
      "| -8001|       9|\n",
      "| -8659|       5|\n",
      "|-10751|       1|\n",
      "|-10798|       1|\n",
      "|-12237|      20|\n",
      "|-16813|       8|\n",
      "+------+--------+\n",
      "only showing top 10 rows\n",
      "\n"
     ]
    }
   ],
   "source": [
    "import pyspark.sql.functions as F\n",
    "repo_indegree = edges_df.filter('dst < 0') \\\n",
    "    .groupby('dst') \\\n",
    "    .count() \\\n",
    "    .withColumnRenamed('dst', 'id') \\\n",
    "    .withColumnRenamed('count', 'inDegree').cache()\n",
    "repo_indegree.show(10)"
   ]
  },
  {
   "cell_type": "markdown",
   "metadata": {},
   "source": [
    "Now, we will break down the above code snippet. First, we filter out the entries where the destination positive (only keeping negative number which represents the repositories). Next, we group by the destination nodes and aggregate each grouped data by counting the number of rows in each group. Using this `repo_indegree ` table, we can check the degree distribtion of GitHub's repo's contribution. Using the function `approxQuantile` provided in pyspark.sql, we can calculate the approximate empirical cdf of the indegree for the repositories on GitHub. "
   ]
  },
  {
   "cell_type": "code",
   "execution_count": 7,
   "metadata": {},
   "outputs": [
    {
     "name": "stderr",
     "output_type": "stream",
     "text": [
      "/home/rgan/anaconda3/lib/python3.7/site-packages/ipykernel_launcher.py:11: RuntimeWarning: divide by zero encountered in log10\n",
      "  # This is added back by InteractiveShellApp.init_path()\n"
     ]
    },
    {
     "data": {
      "image/png": "[encoded data removed]",
      "text/plain": [
       "<Figure size 432x432 with 1 Axes>"
      ]
     },
     "metadata": {
      "needs_background": "light"
     },
     "output_type": "display_data"
    }
   ],
   "source": [
    "import matplotlib.pyplot as plt\n",
    "import numpy as np\n",
    "\n",
    "\n",
    "samp_probs = np.linspace(1e-4, 1, int(1e4)).tolist()\n",
    "degree_quantile = repo_indegree.stat \\\n",
    "            .approxQuantile(col='inDegree',\n",
    "                            probabilities=samp_probs,\n",
    "                            relativeError=1e-4)\n",
    "plt.figure(figsize=(6, 6))\n",
    "plt.plot(np.log10(degree_quantile),\n",
    "         np.log10([1 - i for i in samp_probs]),\n",
    "                'bo')\n",
    "plt.xlabel('Base-10 Log of Degree')\n",
    "plt.ylabel('Base-10 Log of Probability')\n",
    "plt.title('Degree distribution on Base-10 Log-Log scale')\n",
    "plt.show()"
   ]
  },
  {
   "cell_type": "markdown",
   "metadata": {},
   "source": [
    "Although pyspark.sql.functions provide a wide range of function library, in some cases we may find that none of the function provided fits our need. For example, in our following graphframe example, we want to have an aggregate function that returns most frequent item within a list, and if there are ties, choose uniformly random on the set of most frequent items. The existed spark sql function library doesn't seem to have such function. Now, we will need the help of Pandas UDF (User defined function). A User Defined Function (udf) in pyspark.sql is a function operation on the columns of data frame converted from a Python function that the user define. A pandas udf is a special type of udf, as it takes in `pandas.DataFrame` or `pandas.Series` and it allows the action of aggregate on columns, which is not achievable by the function `udf` provided in `pyspark.sql.functions`. It is also claimed to be optimized against the usual `udf`. There are three types of pandas udf, `SCALAR`, `GROUPED_MAP`, `GROUPED_AGG`. `SCALAR` pandas udf is a similar type of udf as `udf` provided in `pyspark.sql.functions`, as it takes in a column and return another column of the same length. `GROUPED_MAP`  is a type of udf that goes in hand with `groupby` operation, as it applies (map) a function on every observation within grouped data. `GROUPED_AGG` is an aggregate operation (reduce) within grouped data. This is the type of pandas udf that I will focus on here, as we need a function that reduces a list of items to one single value by returning the most frequent item. (_For a thorough tutorial on these three types of functions, I suggest reading this tutorial at https://databricks.com/blog/2017/10/30/introducing-vectorized-udfs-for-pyspark.html._) Now, let's look at the code snippet of our pandas UDF."
   ]
  },
  {
   "cell_type": "code",
   "execution_count": 4,
   "metadata": {},
   "outputs": [
    {
     "name": "stdout",
     "output_type": "stream",
     "text": [
      "+-------+\n",
      "|Numbers|\n",
      "+-------+\n",
      "|      1|\n",
      "|      2|\n",
      "|      3|\n",
      "|      2|\n",
      "|      2|\n",
      "+-------+\n",
      "\n",
      "+------------------+\n",
      "|Most Frequent item|\n",
      "+------------------+\n",
      "|                 2|\n",
      "+------------------+\n",
      "\n"
     ]
    }
   ],
   "source": [
    "import numpy as np\n",
    "from collections import Counter\n",
    "from pyspark.sql.functions import pandas_udf, PandasUDFType\n",
    "import pyspark.sql.functions as F\n",
    "\n",
    "\n",
    "@pandas_udf(\"int\", PandasUDFType.GROUPED_AGG)\n",
    "def maxLabel_udf(label_list):\n",
    "    # Filter out the Nones in the list\n",
    "    label_list = list(filter(None, label_list))\n",
    "    # Count the number of occurences for each item in list\n",
    "    LabelCounts = Counter(label_list)\n",
    "    # Retrieve the most frequent items in this list\n",
    "    mostCommonLabels = [i[0] for i in LabelCounts.items()\n",
    "                        if i[1] == max(LabelCounts.values())]\n",
    "    # If there are multiple most frequent items, randomly draw one\n",
    "    # and return\n",
    "    return int(np.random.choice(mostCommonLabels))\n",
    "\n",
    "# Create a toy data frame for testing purpose\n",
    "udf_test = demo.createDataFrame([(1,), (2,), (3,), (2,), (2,)], ['Numbers',])\n",
    "udf_test.show()\n",
    "\n",
    "# Apply the pandas udf to the above data frame\n",
    "udf_test.groupby() \\\n",
    "    .agg(maxLabel_udf(F.col('Numbers')) \\\n",
    "    . alias('Most Frequent item')).show()\n",
    "\n",
    "# The udf returns 2 as the most frequent item, which is the\n",
    "# correct answer"
   ]
  },
  {
   "cell_type": "markdown",
   "metadata": {},
   "source": [
    "In the code snippet above, we first use a decorator `@pandas_udf(\"int\", PandasUDFType.GROUPED_AGG)` to define this udf to be an grouped aggregate function and the return type of this udf to be integer. In the next line, we just defined an ordinary python function that returns the most frequent label. Next, we just need to apply the function over the `Numbers` column. It seems like our pandas_udf returns the correct value. "
   ]
  },
  {
   "cell_type": "markdown",
   "metadata": {},
   "source": [
    "## Graphframe\n",
    "After a brief introduction to the Pyspark SQL and pandas_udf, we will move our focus to graphframes and some of its basic functionality. In Spark's native library, there is a component named GraphX, which specializes for graph processing. In essential, GraphX represents a graph strcutre in the form of GraphRDD, which is a wrapper on top of VertexRDD and EdgeRDD (As every graph can be represented by a set of certices and a set of edges, and these two sets are stored in the form of RDD in Spark). The package includes algorithms such as BFS, DFS, pageRank, Label Propagation. It also provides an API for Pregel. However, GraphX doesn't have a python API. Thus, python user can not use the functionality included in GraphX for graph processing. \n",
    "\n",
    "Fortunately, there is another option for Python users which is called graphframes. It builds upon a similar idea as GraphX. Instead of using RDD to store the vertices and edges, graphframes uses dataframe as the form of storing the vertices and edges. graphframes comes with almost the same package of built-in algorithms as GraphX (in fact, these functions are directly translated from GraphX as RDD can be converted into DataFrames). Most importantly, it comes with a Python API so that Python process can get access to Java objects through Py4j. \n",
    "\n",
    "Remember that we have loaded an data frame called `edges_df`, which contains all the information between GitHub's users and repos. Now, we will load a data frame that represents all the nodes in our GitHub network called `vertices_df`. Then, we will create a graphframe object in Spark."
   ]
  },
  {
   "cell_type": "code",
   "execution_count": 5,
   "metadata": {},
   "outputs": [
    {
     "name": "stdout",
     "output_type": "stream",
     "text": [
      "+------+--------+\n",
      "|    id|inDegree|\n",
      "+------+--------+\n",
      "|  -882|       1|\n",
      "| -1299|       1|\n",
      "| -3150|       1|\n",
      "| -4657|       1|\n",
      "| -8001|       9|\n",
      "| -8659|       5|\n",
      "|-10751|       1|\n",
      "|-10798|       1|\n",
      "|-12237|      20|\n",
      "|-16813|       8|\n",
      "+------+--------+\n",
      "only showing top 10 rows\n",
      "\n"
     ]
    }
   ],
   "source": [
    "from graphframes import GraphFrame\n",
    "\n",
    "# Read the vertices data frame\n",
    "vertices_df = demo.read.parquet('data/vertices.parquet')\n",
    "# Create a graphframe object\n",
    "graphframe_demo = GraphFrame(vertices_df, edges_df)\n",
    "# Only keep the edges where the destination is a repo\n",
    "# and show the inDegrees of the filtered graph\n",
    "graphframe_demo.filterEdges('dst < 0') \\\n",
    "    .inDegrees.show(10)"
   ]
  },
  {
   "cell_type": "markdown",
   "metadata": {},
   "source": [
    "In the code snippet above, we read in the vertices list from a parquet file to create a data frame called `vertices_df`. Using the `vertices_df` and `edges_df`, we created a graphframe object called `graphframe_demo`. The graphframe object has built-in functionalities considered useful. Getting back to the example where we calculate the in degrees of GitHub's repository. A `graphframe` object already has attributes `inDegrees` stored when the object is being constructed. Now, we will just need to use the function `filterEdges` to obtain the subgraph that only contains edges from users to repositories in our GitHub use-repo example and access the `inDegrees` of the subgraph. We can see that it produce the same result as in previous example.\n",
    "\n",
    "graphframes also comes with common graph algorithms. Suppose we are interested in the influential (popular) GitHub repositories, we can use the included `pageRank` function."
   ]
  },
  {
   "cell_type": "code",
   "execution_count": 6,
   "metadata": {},
   "outputs": [],
   "source": [
    "pageRank_demo = graphframe_demo.pageRank(maxIter=10).vertices.cache()\n",
    "top_10_repo = pageRank_demo \\\n",
    "        .filter('id < 0') \\\n",
    "        .orderBy(pageRank_demo.pagerank.desc()) \\\n",
    "        .take(10)"
   ]
  },
  {
   "cell_type": "code",
   "execution_count": 8,
   "metadata": {},
   "outputs": [
    {
     "data": {
      "text/html": [
       "<div>\n",
       "<style scoped>\n",
       "    .dataframe tbody tr th:only-of-type {\n",
       "        vertical-align: middle;\n",
       "    }\n",
       "\n",
       "    .dataframe tbody tr th {\n",
       "        vertical-align: top;\n",
       "    }\n",
       "\n",
       "    .dataframe thead th {\n",
       "        text-align: right;\n",
       "    }\n",
       "</style>\n",
       "<table border=\"1\" class=\"dataframe\">\n",
       "  <thead>\n",
       "    <tr style=\"text-align: right;\">\n",
       "      <th></th>\n",
       "      <th>Id</th>\n",
       "      <th>Page Rank</th>\n",
       "      <th>Repo name</th>\n",
       "    </tr>\n",
       "  </thead>\n",
       "  <tbody>\n",
       "    <tr>\n",
       "      <th>0</th>\n",
       "      <td>-10594164</td>\n",
       "      <td>346.344554</td>\n",
       "      <td>prism-break/prism-break</td>\n",
       "    </tr>\n",
       "    <tr>\n",
       "      <th>1</th>\n",
       "      <td>-17839626</td>\n",
       "      <td>275.924734</td>\n",
       "      <td>HGustavs/LenaSYS</td>\n",
       "    </tr>\n",
       "    <tr>\n",
       "      <th>2</th>\n",
       "      <td>-19726406</td>\n",
       "      <td>261.824003</td>\n",
       "      <td>strategist922/datasciencecoursera</td>\n",
       "    </tr>\n",
       "    <tr>\n",
       "      <th>3</th>\n",
       "      <td>-14681712</td>\n",
       "      <td>253.918046</td>\n",
       "      <td>jacano1969/MVC_framework</td>\n",
       "    </tr>\n",
       "    <tr>\n",
       "      <th>4</th>\n",
       "      <td>-20329618</td>\n",
       "      <td>244.805479</td>\n",
       "      <td>skillcrush/skillcrush-104</td>\n",
       "    </tr>\n",
       "    <tr>\n",
       "      <th>5</th>\n",
       "      <td>-18491419</td>\n",
       "      <td>240.140818</td>\n",
       "      <td>UIKit0/roslyn</td>\n",
       "    </tr>\n",
       "    <tr>\n",
       "      <th>6</th>\n",
       "      <td>-19369035</td>\n",
       "      <td>231.188696</td>\n",
       "      <td>TEAMMATES/teammates</td>\n",
       "    </tr>\n",
       "    <tr>\n",
       "      <th>7</th>\n",
       "      <td>-1175581</td>\n",
       "      <td>207.059437</td>\n",
       "      <td>citation-style-language/styles</td>\n",
       "    </tr>\n",
       "    <tr>\n",
       "      <th>8</th>\n",
       "      <td>-18524934</td>\n",
       "      <td>206.130144</td>\n",
       "      <td>Roll20/roll20-character-sheets</td>\n",
       "    </tr>\n",
       "    <tr>\n",
       "      <th>9</th>\n",
       "      <td>-10614101</td>\n",
       "      <td>204.298904</td>\n",
       "      <td>TheOdinProject/curriculum</td>\n",
       "    </tr>\n",
       "  </tbody>\n",
       "</table>\n",
       "</div>"
      ],
      "text/plain": [
       "         Id   Page Rank                          Repo name\n",
       "0 -10594164  346.344554            prism-break/prism-break\n",
       "1 -17839626  275.924734                   HGustavs/LenaSYS\n",
       "2 -19726406  261.824003  strategist922/datasciencecoursera\n",
       "3 -14681712  253.918046           jacano1969/MVC_framework\n",
       "4 -20329618  244.805479          skillcrush/skillcrush-104\n",
       "5 -18491419  240.140818                      UIKit0/roslyn\n",
       "6 -19369035  231.188696                TEAMMATES/teammates\n",
       "7  -1175581  207.059437     citation-style-language/styles\n",
       "8 -18524934  206.130144     Roll20/roll20-character-sheets\n",
       "9 -10614101  204.298904          TheOdinProject/curriculum"
      ]
     },
     "execution_count": 8,
     "metadata": {},
     "output_type": "execute_result"
    }
   ],
   "source": [
    "# Get the names of the repositories by IDs\n",
    "from github import Github\n",
    "from configparser import ConfigParser\n",
    "import pandas as pd\n",
    "\n",
    "parser = ConfigParser()\n",
    "parser.read('github.auth')\n",
    "user_1 = parser.sections()[3]\n",
    "params = parser.items(user_1)\n",
    "auth = {}\n",
    "for param in params:\n",
    "    auth[param[0]] = param[1]\n",
    "g = Github(**auth)\n",
    "\n",
    "repo_names = []\n",
    "for repo in top_10_repo:\n",
    "    repo_names.append(g.get_repo(-repo[0]).full_name)\n",
    "\n",
    "top_10_repo = pd.concat([pd.DataFrame(top_10_repo, columns = ['Id', 'Page Rank']),\n",
    "                         pd.DataFrame(repo_names, columns = ['Repo name',])],\n",
    "                         axis = 1)\n",
    "top_10_repo"
   ]
  },
  {
   "cell_type": "markdown",
   "metadata": {},
   "source": [
    "## Message Passing\n",
    "\n",
    "Now we have built a graphframe object in Spark and being able to conduct some network analysis with functionalities included in graphframe. Suppose we want to develop our own graph algorithms, what tools can graphframe and spark offer us? It turns out that graphframes' message passing API `aggregateMessages` and its related utility function library `AggregateMessages` are very powerful tools. Message passing builds upon the idea of 'thinking like a node'. Graph algorithms can then be transformed into \n",
    "    1. Nodes exchanging information through the links between each other.\n",
    "    2. Aggregate information received at every node.\n",
    "    3. Repeat the above steps until some stopping condition\n",
    "    \n",
    "Next, we will look at one example of how message passing is deployed. Suppose we want to write our own label propagation algorithm that is designed for bipartite network, especially for our GitHub network, how should we do that in Spark? Before diving into the code, I will briefly describe what is Label Propagation algorithm. It is intended for community detection in complex networks. The idea of the algorithm is simple: \n",
    "    Initially every node get its own label\n",
    "    for each iteration, do:\n",
    "        1. Every node send its labels to other nodes.\n",
    "        2. Each node pick the most frequent label from its labels; \n",
    "        If there are ties, choose one label uniformly at random.\n",
    "\n",
    "It is an efficient algorithm as for each node only needs to pick the most frequent label. And it is embarrassingly parallel. Based on the above algorithm, we now want to make some modification to better fit our GitHub network. Instead of assigning labels to every user and repo, we now want to assign every user a distinct label. And users send the labels to the repos that they have contributed. After repos received labels from the users, repos will then send the labels to its contributors and users that have forked from the repo. This alternating updating schema repeat until the desired number of iteration is completed. \n",
    "\n",
    "Time to look at some code:"
   ]
  },
  {
   "cell_type": "code",
   "execution_count": null,
   "metadata": {},
   "outputs": [],
   "source": [
    "from graphframes.lib import AggregateMessages as AM\n",
    "\n",
    "# Determine node type of the vertices; 1 is user, 2 is repo\n",
    "nodeTypeUDF = F.udf(lambda i: 1 if i > 0 else 2, types.IntegerType())\n",
    "vertices_df = vertices_df.withColumn('nodeType', nodeTypeUDF(F.col('id')))\n",
    "\n",
    "# Assign initial label to the users\n",
    "initLabelUDF = F.udf(lambda i, j: i if j == 1 else None,\n",
    "                     types.IntegerType())\n",
    "v = graphframe_demo.vertices.withColumn('label',\n",
    "        initLabelUDF(F.col('id'), F.col('nodeType')))\n",
    "\n",
    "# Add edges for every node that goes to itself\n",
    "E_self = demo.createDataFrame(v.select(F.col('id')).rdd)\n",
    "E = graphframe_demo.edges.union(\n",
    "        E_self.withColumn('dst', F.col('id'))\n",
    "        .withColumnRenamed('id', 'src'))\n",
    "\n",
    "# Create a new graphframe object with labels attached\n",
    "LPAbgf = GraphFrame(v, E)"
   ]
  },
  {
   "cell_type": "markdown",
   "metadata": {},
   "source": [
    "In the code cell above, what we did is just assign new label to every user and create a new graphframe object with each node has its label attached. Next, we will define the message that each node send to its neighbors and how the messages are aggregated at each node."
   ]
  },
  {
   "cell_type": "code",
   "execution_count": null,
   "metadata": {},
   "outputs": [],
   "source": [
    "# Set Number of iteration\n",
    "numIter = 5\n",
    "for iter_ in range(numIter):\n",
    "    for nodeType in [1, 2]:\n",
    "        # For user and repo nodes, send their labels to\n",
    "        # their destination nodes in alternating order\n",
    "        msgForDst = F.when(AM.src['nodeType'] == nodeType,\n",
    "                           AM.src['label'])\n",
    "        # If it's repo's turn to send label to their destinations,\n",
    "        # also send repo's label's to its contributors\n",
    "        if nodeType == 2:\n",
    "            msgForSrc = F.when(AM.src['nodeType'] == 1, AM.dst['label'])\n",
    "        else:\n",
    "            msgForSrc = None\n",
    "\n",
    "        # Aggregate messages received from each node\n",
    "        aggregates = LPAbgf.aggregateMessages(\n",
    "                aggCol = maxLabel_udf(AM.msg).alias(\"aggMess\"),\n",
    "                sendToDst = msgForDst,\n",
    "                sendToSrc = msgForSrc)\n",
    "        v = LPAbgf.vertices\n",
    "\n",
    "        # Update Labels for each node; If there is message for\n",
    "        # the node, update the node's Label\n",
    "        newLabelCol = F.when(aggregates[\"aggMess\"].isNotNull(),\n",
    "                             aggregates[\"aggMess\"]\n",
    "                            ).otherwise(v['label'])\n",
    "        # Outer join aggregates and vertices\n",
    "        vNew = (v\n",
    "            .join(aggregates, on=(v['id'] == aggregates['id']),\n",
    "                how='left_outer').drop(aggregates['id'])\n",
    "            # Compute new column\n",
    "            .withColumn('newLabel', newLabelCol)\n",
    "            # Drop messages\n",
    "            .drop('aggMess')\n",
    "            # Drop old labels\n",
    "            .drop('label')\n",
    "            .withColumnRenamed('newLabel', 'label')\n",
    "        )\n",
    "        # Get the cached data frame of new vertices\n",
    "        # to avoid memory over flow issue\n",
    "        cachedvNew = AM.getCachedDataFrame(vNew)\n",
    "        LPAbgf = GraphFrame(cachedvNew, E)\n",
    "\n",
    "\n",
    "# get rid of the self oriented edges in the data frame\n",
    "LPAbgf = GraphFrame(LPAbgf.vertices,\n",
    "                    graphframe_demo.edges)"
   ]
  },
  {
   "cell_type": "markdown",
   "metadata": {},
   "source": [
    "This is a long cell of code... But bear with me. Let's read this code line by line..\n",
    "From the first two line, we can see that for each iteration, we alternatively set user and repo to send their labels to their destination nodes. We use `msgForDst` to define the content of the message that the destination nodes receive. We also specify that when it's repos' turn to send label, also send their label to its contributors. Here, `AM.src` and `AM.dst` are references for columns of source and destination. We can think of them as edge-triplets: source node and destination node are tables that contains information about the nodes in the `vertices_df` table, while the edges in `edges_df` table builds the tunnel for them to exchange information. \n",
    "\n",
    "After we define the content of message, we will define how to aggregate the message at each node. The instance method `aggregateMessages` provided in graphframe gives us an entry point. In the function, we set the argument `aggCol` equal to an sparl sql column expression or a pyspark function/udf that takes in `AM.msg`, which is a column that specifies the content of the messages received by each node. Here, we use the pandas udf that we write in previous section to aggregate the labels received by choosing the most common one. `aggregateMessages` will then return a data frame `aggregates` composed of columns `id` and `aggMess`. \n",
    "\n",
    "Next, we will do left outer join the vertices table `v` with our aggregated message dataframe `aggregates` and update the labels. Finally, using the new vertices table `vnew` and edges `E`, we will create a new graphframe object to either use in the next iteration or to return the final labelling result."
   ]
  },
  {
   "cell_type": "markdown",
   "metadata": {},
   "source": [
    "## Runtime efficiency\n",
    "Speaking of making the code run faster. The above code takes about 22 minutes to run one iteration for Spark running in local mode (16gbs of RAM, 8 logical CPU) for a network with about 6 million nodes and 14 million edges. The Label propagation algorithm provided by graphframe (which is translated GraphX's implementation using RDD and Pregel) use around the same time for one iteration of label updating."
   ]
  }
 ],
 "metadata": {
  "kernelspec": {
   "display_name": "Python 3",
   "language": "python",
   "name": "python3"
  },
  "language_info": {
   "codemirror_mode": {
    "name": "ipython",
    "version": 3
   },
   "file_extension": ".py",
   "mimetype": "text/x-python",
   "name": "python",
   "nbconvert_exporter": "python",
   "pygments_lexer": "ipython3",
   "version": "3.7.0"
  }
 },
 "nbformat": 4,
 "nbformat_minor": 2
}
