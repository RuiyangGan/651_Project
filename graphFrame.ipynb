{
 "cells": [
  {
   "cell_type": "markdown",
   "metadata": {},
   "source": [
    "## Experimenting with graphframe and pyspark\n",
    "\n",
    "I tend to follow the User guide for Graphframe and that is posted on Databricks https://docs.databricks.com/spark/latest/graph-analysis/graphframes/user-guide-python.html. "
   ]
  },
  {
   "cell_type": "code",
   "execution_count": 1,
   "metadata": {},
   "outputs": [],
   "source": [
    "from src.GHnet import *\n",
    "from src.parse_edges import *"
   ]
  },
  {
   "cell_type": "markdown",
   "metadata": {},
   "source": [
    "Now, read the fork edges and the contribution edges from the text file `fork_edges.txt` and `contrib_edges.txt`. For each line in the two files, the edges will be in the form of a tuple `(u,r)` or `(r,u)`. Here `r` and `u` specifies the repositories ID and user ID on GitHub. For more information about the storage formats of `fork_edges.txt` and `contrib_edges.txt`. and how edges are collected (and how the network is formed), please consult the meta file `meta.md`. "
   ]
  },
  {
   "cell_type": "markdown",
   "metadata": {},
   "source": [
    "After we read in the contribution edges and fork edges, we will build the Biparitite Graph using Graphframe. Now, we will convert the text file that contains the edges into two parquet file `vertices.parquet` and `edges.parquet`. "
   ]
  },
  {
   "cell_type": "code",
   "execution_count": 5,
   "metadata": {},
   "outputs": [],
   "source": [
    "txt_to_pq(contrib_edge_file='data/contrib_edges.txt',\n",
    "          fork_edge_file='data/fork_edges.txt')"
   ]
  },
  {
   "cell_type": "markdown",
   "metadata": {},
   "source": [
    "Next, using these two parquet file, we will construct a graphframe object. "
   ]
  },
  {
   "cell_type": "code",
   "execution_count": 2,
   "metadata": {},
   "outputs": [],
   "source": [
    "demo = GHnet(vertices_pq='data/vertices.parquet',\n",
    "            edges_pq='data/edges.parquet')"
   ]
  },
  {
   "cell_type": "markdown",
   "metadata": {},
   "source": [
    "## Preliminary EDA on the Graph\n",
    "After we create a graphframe object, we can now do some preliminary EDA on the graph. One straightfoward thing we can check is the in and out degree distribution of the users and repos. "
   ]
  },
  {
   "cell_type": "code",
   "execution_count": 4,
   "metadata": {},
   "outputs": [
    {
     "name": "stderr",
     "output_type": "stream",
     "text": [
      "/home/rgan/s651/651_Project/src/GHnet.py:77: RuntimeWarning: divide by zero encountered in log\n",
      "  np.log([1 - i for i in samp_probs]),\n"
     ]
    },
    {
     "data": {
      "image/png": "[encoded data removed]",
      "text/plain": [
       "<Figure size 720x720 with 1 Axes>"
      ]
     },
     "metadata": {
      "needs_background": "light"
     },
     "output_type": "display_data"
    }
   ],
   "source": [
    "a = demo.degree_dist(deg_type='f', plot = True)"
   ]
  },
  {
   "cell_type": "markdown",
   "metadata": {},
   "source": [
    "## Page Rank of GitHub's repository and users\n",
    "Top ten influential repository?"
   ]
  },
  {
   "cell_type": "markdown",
   "metadata": {},
   "source": [
    "## Community Detection\n",
    "\n",
    "### LPAb\n",
    "This is the implementation of LPAb+ algorithm for label propagation in a bipartite network. LPA is an efficient algorithm for community detectionm, as for each iteration every node send out its label to its neighboring nodes. And every nodes will then update its label to the most frequent label received at each iteration. Label will be randomly decided if there are ties in the counts of labels. LPA is efficient. However, it doesn't gurantee convergence. Particularly, a phenomenon called label oscillation will occur if there is a bipartite compoenent in the graph. \n",
    "\n",
    "To overcome, we will consider an invariant from of LPA, which is called LPAb (b stands for bipartite). A small but major difference between 'vanila' LPA and LPAb is in the orders that the labels are updated. Before the iteration, we will first assign two colors (red and blue) to the two types of nodes in the bipartite network. WLOG, assume we assign unique labels to the red nodes while not assigning blue nodes any label. Then in the first iteration, red nodes are then updated by the most frequent node labels. \n",
    "\n",
    "In GitHub's fork-contribution network (where the edges are directed), we will first assign the users with their own unique labels. Then in the next iteration, the users will send out their current label to their contributing repos and these repos will update their labels to the most popular label. In the second iteration, the users who fork from the repos will receive the updated labels from the repos. Such alternating updating scheme will carry on until there is no labeling changes for any node in the graph or after some specificed number of iterations."
   ]
  },
  {
   "cell_type": "markdown",
   "metadata": {},
   "source": [
    "After seeing the LPAb, we will continue to a more complicated LPA, which involves the concept of modularity. Modularity is a measure of community cohesion of a networks. Given the label vector $Z$ where its $i$-th entry is the labeling assignment of node $i$ the defination of modularity for directed graph is given by $$Q = \\frac{c}{f+c}\\sum_{u,r}\\big[A_{ur} - \\frac{k_u^{in}k_r^{out}}{c}\\big]\\delta(Z_u, Z_r) + \\frac{f}{f+c}\\sum_{u,r}\\big[A_{ru} - \\frac{k_r^{in}k_u^{out}}{f}\\big]\\delta(Z_u, Z_r)$$, where $f$ is the number of fork edges and contribution, $k_i^{in}, k_i^{out}$ are the in and out degree of node $i$, and $\\delta$ is the kronecker delta. A community partition will have a high modularity if connected nodes tend to share the same label. \n",
    "\n",
    "Now, we will introduce an algorithm called LPAb+, which incorporates the above idea in the updating and stropping rule of the algorithm. It involves one bottom-up steps and top-down step."
   ]
  },
  {
   "cell_type": "code",
   "execution_count": 3,
   "metadata": {},
   "outputs": [],
   "source": [
    "initLabelUDF = F.udf(lambda i, j: i if j == 1 else None,\n",
    "                              types.IntegerType())\n",
    "v = demo.gf.vertices.withColumn('label', initLabelUDF(F.col('id'), F.col('nodeType')))"
   ]
  },
  {
   "cell_type": "code",
   "execution_count": 4,
   "metadata": {},
   "outputs": [],
   "source": [
    "test = GraphFrame(v, demo.gf.edges)"
   ]
  },
  {
   "cell_type": "code",
   "execution_count": null,
   "metadata": {},
   "outputs": [
    {
     "name": "stderr",
     "output_type": "stream",
     "text": [
      "/home/rgan/anaconda3/lib/python3.7/site-packages/pyarrow/__init__.py:159: UserWarning: pyarrow.open_stream is deprecated, please use pyarrow.ipc.open_stream\n",
      "  warnings.warn(\"pyarrow.open_stream is deprecated, please use \"\n"
     ]
    }
   ],
   "source": [
    "a = GHnet.Modularity(test)"
   ]
  },
  {
   "cell_type": "markdown",
   "metadata": {},
   "source": [
    "# (If Time allows) Matrix completion problem\n",
    "We now observe a bipartite contribution-fork network. But we know that users on GitHub collaborate with each other (or they can follow someone they look up to) and repos depends on other repos as well (unless developers enjoy torturing themselves or tired of being tortured by shitty packages they use on a daily basis). We can think of this as a matrix completion problem, where we want to fill in the unobserved entries in our population adjacency matrix. Suppose we have a small sample of collaboration/follower and repository dependency information, can we use that to complete our population graph?"
   ]
  },
  {
   "cell_type": "code",
   "execution_count": 2,
   "metadata": {},
   "outputs": [
    {
     "data": {
      "text/plain": [
       "[(1, 4), (1, 5), (1, 6), (2, 4), (2, 5), (2, 6), (3, 4), (3, 5), (3, 6)]"
      ]
     },
     "execution_count": 2,
     "metadata": {},
     "output_type": "execute_result"
    }
   ],
   "source": [
    "from itertools import product\n",
    "[a for a in product([1,2,3], [4,5,6])]"
   ]
  },
  {
   "cell_type": "code",
   "execution_count": 3,
   "metadata": {},
   "outputs": [
    {
     "data": {
      "text/plain": [
       "{(1, 4): 4,\n",
       " (1, 5): 5,\n",
       " (1, 6): 6,\n",
       " (2, 4): 8,\n",
       " (2, 5): 10,\n",
       " (2, 6): 12,\n",
       " (3, 4): 12,\n",
       " (3, 5): 15,\n",
       " (3, 6): 18}"
      ]
     },
     "execution_count": 3,
     "metadata": {},
     "output_type": "execute_result"
    }
   ],
   "source": [
    "{k:k[0]*k[1] for k in [k for k in product([1,2,3], [4,5,6])]}"
   ]
  },
  {
   "cell_type": "code",
   "execution_count": 14,
   "metadata": {},
   "outputs": [],
   "source": [
    "a = [(x,y, z) for (x, y, z) in zip([1,2,3], [1,3,4], [1,2,3])]"
   ]
  },
  {
   "cell_type": "code",
   "execution_count": 17,
   "metadata": {},
   "outputs": [],
   "source": [
    "import pandas as pd\n",
    "b = pd.DataFrame(a, columns = ['x', 'y', 'z'])\n",
    "c = pd.DataFrame(a, columns = ['x', 'y', 'z'])"
   ]
  },
  {
   "cell_type": "code",
   "execution_count": 19,
   "metadata": {},
   "outputs": [
    {
     "data": {
      "text/plain": [
       "[(1, 1), (1, 2), (1, 3), (2, 1), (2, 2), (2, 3), (3, 1), (3, 2), (3, 3)]"
      ]
     },
     "execution_count": 19,
     "metadata": {},
     "output_type": "execute_result"
    }
   ],
   "source": [
    "[d for d in product(b['x'], c['x'])]"
   ]
  },
  {
   "cell_type": "code",
   "execution_count": null,
   "metadata": {},
   "outputs": [],
   "source": []
  }
 ],
 "metadata": {
  "kernelspec": {
   "display_name": "Python 3",
   "language": "python",
   "name": "python3"
  },
  "language_info": {
   "codemirror_mode": {
    "name": "ipython",
    "version": 3
   },
   "file_extension": ".py",
   "mimetype": "text/x-python",
   "name": "python",
   "nbconvert_exporter": "python",
   "pygments_lexer": "ipython3",
   "version": "3.7.0"
  }
 },
 "nbformat": 4,
 "nbformat_minor": 2
}
