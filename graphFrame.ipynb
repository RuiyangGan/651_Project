{
 "cells": [
  {
   "cell_type": "markdown",
   "metadata": {},
   "source": [
    "## Experimenting with graphframe and pyspark\n",
    "\n",
    "I tend to follow the User guide for Graphframe and that is posted on Databricks https://docs.databricks.com/spark/latest/graph-analysis/graphframes/user-guide-python.html. \n",
    "\n",
    "First, we will import the packages needed to construct the graph data structure in the Graphframe."
   ]
  },
  {
   "cell_type": "code",
   "execution_count": 1,
   "metadata": {},
   "outputs": [],
   "source": [
    "# Import PySpark and Graphframe\n",
    "from pyspark.sql import SparkSession\n",
    "from pyspark.sql.types import StringType, StructType, StructField\n",
    "from graphframes import *\n",
    "import matplotlib.pyplot as plt"
   ]
  },
  {
   "cell_type": "markdown",
   "metadata": {},
   "source": [
    "Now, read the fork edges and the contribution edges from the text file `fork_edges.txt` and `contrib_edges.txt`. For each line in the two files, the edges will be in the form of a tuple `(u,r)` or `(r,u)`. Here `r` and `u` specifies the repositories ID and user ID on GitHub. For more information about the storage formats of `fork_edges.txt` and `contrib_edges.txt`. and how edges are collected (and how the network is formed), please consult the meta file `meta.md`. "
   ]
  },
  {
   "cell_type": "code",
   "execution_count": 19,
   "metadata": {},
   "outputs": [],
   "source": [
    "from parse_edges import parse_edges\n",
    "\n",
    "# Parse string literal to become list of tuples\n",
    "contrib_edges, fork_edges = (parse_edges('contrib_edges.txt', 'c'),\n",
    "                             parse_edges('fork_edges.txt', 'f'))\n",
    "\n",
    "edges = contrib_edges + fork_edges\n",
    "vertices = [(v,) for v in set([l for e in edges for l in e])]"
   ]
  },
  {
   "cell_type": "markdown",
   "metadata": {},
   "source": [
    "After we read in the contribution edges and fork edges, we will build the Biparitite Graph using Graphframe. First, we will construct two data frames: `vertices` and `edges`. Using these two tables, we will construct a graph structure in Spark. "
   ]
  },
  {
   "cell_type": "code",
   "execution_count": 20,
   "metadata": {},
   "outputs": [],
   "source": [
    "# Create a Spark Session for Dataframe and SQL functionality\n",
    "#GHnet = SparkSession \\\n",
    "#    .builder \\\n",
    "#    .appName(\"GHnet\") \\\n",
    "#    .getOrCreate()\n",
    "\n",
    "# Construct the two tables from list of edges and user IDs\n",
    "vertices_table = GHnet.createDataFrame(vertices, ['id'])\n",
    "edges_table = GHnet.createDataFrame(edges, ['src', 'dst'])\n",
    "\n",
    "# Create a graphframe object\n",
    "GHnet_graphframe = GraphFrame(vertices_table, edges_table)"
   ]
  },
  {
   "cell_type": "markdown",
   "metadata": {},
   "source": [
    "## Preliminary EDA on the Graph\n",
    "After we create a graphframe object, we can now do some preliminary EDA on the graph. One straightfoward thing we can check is the in and out degree distribution of the users and repos. "
   ]
  },
  {
   "cell_type": "code",
   "execution_count": 28,
   "metadata": {},
   "outputs": [
    {
     "data": {
      "text/plain": [
       "[<matplotlib.lines.Line2D at 0x7f75fff6f4e0>]"
      ]
     },
     "execution_count": 28,
     "metadata": {},
     "output_type": "execute_result"
    },
    {
     "data": {
      "image/png": "[encoded data removed]",
      "text/plain": [
       "<Figure size 1440x720 with 1 Axes>"
      ]
     },
     "metadata": {
      "needs_background": "light"
     },
     "output_type": "display_data"
    }
   ],
   "source": [
    "#num_of_forks = GHnet_graphframe.outDegrees.filter(\"id < 0\").cache()\n",
    "#print(num_of_forks.stat.approxQuantile(col='outDegree', probabilities=(0.9999999,), relativeError=1e-6))\n",
    "#import numpy as np\n",
    "\n",
    "#num_of_contribs = GHnet_graphframe.inDegrees.filter(\"id < 0\").cache()\n",
    "samp_probs = np.linspace(0, 1, int(1e6)).tolist()\n",
    "plt.figure(figsize=(20,10))\n",
    "plt.plot(np.log(num_of_forks.stat.approxQuantile(col='outDegree',\n",
    "                                            probabilities=samp_probs,\n",
    "                                            relativeError=1e-4)),\n",
    "        np.log([1-i for i in samp_probs]), )\n",
    "#num_of_forks.stat.approxQuantile(col='outDegree',\n",
    "#                                 probabilities=(.90,),\n",
    "#                                 relativeError=1e-4)"
   ]
  },
  {
   "cell_type": "code",
   "execution_count": 40,
   "metadata": {},
   "outputs": [
    {
     "data": {
      "text/plain": [
       "'Fork Degree dist'"
      ]
     },
     "execution_count": 40,
     "metadata": {},
     "output_type": "execute_result"
    }
   ],
   "source": [
    "a = 'f'\n",
    "title = 'Fork Degree dist' if a == 'f' \\\n",
    "else \"Contrib Degree dist\"\n",
    "title"
   ]
  },
  {
   "cell_type": "markdown",
   "metadata": {},
   "source": [
    "## Page Rank of GitHub's repository and users\n",
    "Top ten influential repository?"
   ]
  },
  {
   "cell_type": "markdown",
   "metadata": {},
   "source": [
    "## Graph Spectrum\n",
    "Since we don't have the direct collaboration information between users (which requires push access to specific repo), we are only able to collect the contributors of specific repos and users who fork the repos. Thus the contribution-fork edge network is bipartite.\n",
    "\n",
    "Let $A$  be the Adjacency matrix of GitHub's contribution-fork network and assume there are $m$ repos and $n$ users. $A_{ur}$ be the adjacency matrix that represents contribution edges, and $A_{ru}$ be the adjacency matrix that represents the fork edges. Then $A$ can be written in block matrix form $$A = \\begin{pmatrix} 0_n & A_{ur}\\\\ A_{ru}& 0_m\\end{pmatrix}$$. Thus the matrix $A$ is singular, thus having 0 eigenvalue. "
   ]
  },
  {
   "cell_type": "markdown",
   "metadata": {},
   "source": [
    "## Community Detection\n",
    "Implement community detection algorithms"
   ]
  },
  {
   "cell_type": "markdown",
   "metadata": {},
   "source": [
    "# (If Time allows) Matrix completion problem\n",
    "We now observe a bipartite contribution-fork network. But we know that users on GitHub collaborate with each other (or they can follow someone they look up to) and repos depends on other repos as well (unless developers enjoy torturing themselves or tired of being tortured by shitty packages they use on a daily basis). We can think of this as a matrix completion problem, where we want to fill in the unobserved entries in our population adjacency matrix. Suppose we have a small sample of collaboration/follower and repository dependency information, can we use that to complete our population graph?"
   ]
  }
 ],
 "metadata": {
  "kernelspec": {
   "display_name": "Python 3",
   "language": "python",
   "name": "python3"
  },
  "language_info": {
   "codemirror_mode": {
    "name": "ipython",
    "version": 3
   },
   "file_extension": ".py",
   "mimetype": "text/x-python",
   "name": "python",
   "nbconvert_exporter": "python",
   "pygments_lexer": "ipython3",
   "version": "3.7.0"
  }
 },
 "nbformat": 4,
 "nbformat_minor": 2
}
